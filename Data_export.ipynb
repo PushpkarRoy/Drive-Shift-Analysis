{
 "cells": [
  {
   "cell_type": "markdown",
   "id": "0a72859f",
   "metadata": {},
   "source": [
    "__Export Gold Data Set into SQL__ "
   ]
  },
  {
   "cell_type": "code",
   "execution_count": 3,
   "id": "44911d2c",
   "metadata": {},
   "outputs": [],
   "source": [
    "import pandas as pd\n",
    "import numpy as np\n",
    "import matplotlib.pyplot as plt"
   ]
  },
  {
   "cell_type": "code",
   "execution_count": 6,
   "id": "aedba564",
   "metadata": {},
   "outputs": [],
   "source": [
    "import pandas as pd\n",
    "\n",
    "gold_Customers = pd.read_csv(\"gold.dim_customers.csv\")\n",
    "\n"
   ]
  },
  {
   "cell_type": "code",
   "execution_count": 7,
   "id": "653a50d2",
   "metadata": {},
   "outputs": [
    {
     "data": {
      "text/html": [
       "<div>\n",
       "<style scoped>\n",
       "    .dataframe tbody tr th:only-of-type {\n",
       "        vertical-align: middle;\n",
       "    }\n",
       "\n",
       "    .dataframe tbody tr th {\n",
       "        vertical-align: top;\n",
       "    }\n",
       "\n",
       "    .dataframe thead th {\n",
       "        text-align: right;\n",
       "    }\n",
       "</style>\n",
       "<table border=\"1\" class=\"dataframe\">\n",
       "  <thead>\n",
       "    <tr style=\"text-align: right;\">\n",
       "      <th></th>\n",
       "      <th>customer_key</th>\n",
       "      <th>customer_id</th>\n",
       "      <th>customer_number</th>\n",
       "      <th>first_name</th>\n",
       "      <th>last_name</th>\n",
       "      <th>country</th>\n",
       "      <th>marital_status</th>\n",
       "      <th>gender</th>\n",
       "      <th>birthdate</th>\n",
       "      <th>create_date</th>\n",
       "    </tr>\n",
       "  </thead>\n",
       "  <tbody>\n",
       "    <tr>\n",
       "      <th>0</th>\n",
       "      <td>1</td>\n",
       "      <td>11000</td>\n",
       "      <td>AW00011000</td>\n",
       "      <td>Jon</td>\n",
       "      <td>Yang</td>\n",
       "      <td>Australia</td>\n",
       "      <td>Married</td>\n",
       "      <td>Male</td>\n",
       "      <td>1971-10-06</td>\n",
       "      <td>2025-10-06</td>\n",
       "    </tr>\n",
       "    <tr>\n",
       "      <th>1</th>\n",
       "      <td>2</td>\n",
       "      <td>11001</td>\n",
       "      <td>AW00011001</td>\n",
       "      <td>Eugene</td>\n",
       "      <td>Huang</td>\n",
       "      <td>Australia</td>\n",
       "      <td>Single</td>\n",
       "      <td>Male</td>\n",
       "      <td>1976-05-10</td>\n",
       "      <td>2025-10-06</td>\n",
       "    </tr>\n",
       "    <tr>\n",
       "      <th>2</th>\n",
       "      <td>3</td>\n",
       "      <td>11002</td>\n",
       "      <td>AW00011002</td>\n",
       "      <td>Ruben</td>\n",
       "      <td>Torres</td>\n",
       "      <td>Australia</td>\n",
       "      <td>Married</td>\n",
       "      <td>Male</td>\n",
       "      <td>1971-02-09</td>\n",
       "      <td>2025-10-06</td>\n",
       "    </tr>\n",
       "    <tr>\n",
       "      <th>3</th>\n",
       "      <td>4</td>\n",
       "      <td>11003</td>\n",
       "      <td>AW00011003</td>\n",
       "      <td>Christy</td>\n",
       "      <td>Zhu</td>\n",
       "      <td>Australia</td>\n",
       "      <td>Single</td>\n",
       "      <td>Female</td>\n",
       "      <td>1973-08-14</td>\n",
       "      <td>2025-10-06</td>\n",
       "    </tr>\n",
       "    <tr>\n",
       "      <th>4</th>\n",
       "      <td>5</td>\n",
       "      <td>11004</td>\n",
       "      <td>AW00011004</td>\n",
       "      <td>Elizabeth</td>\n",
       "      <td>Johnson</td>\n",
       "      <td>Australia</td>\n",
       "      <td>Single</td>\n",
       "      <td>Female</td>\n",
       "      <td>1979-08-05</td>\n",
       "      <td>2025-10-06</td>\n",
       "    </tr>\n",
       "  </tbody>\n",
       "</table>\n",
       "</div>"
      ],
      "text/plain": [
       "   customer_key  customer_id customer_number first_name last_name    country  \\\n",
       "0             1        11000      AW00011000        Jon      Yang  Australia   \n",
       "1             2        11001      AW00011001     Eugene     Huang  Australia   \n",
       "2             3        11002      AW00011002      Ruben    Torres  Australia   \n",
       "3             4        11003      AW00011003    Christy       Zhu  Australia   \n",
       "4             5        11004      AW00011004  Elizabeth   Johnson  Australia   \n",
       "\n",
       "  marital_status  gender   birthdate create_date  \n",
       "0        Married    Male  1971-10-06  2025-10-06  \n",
       "1         Single    Male  1976-05-10  2025-10-06  \n",
       "2        Married    Male  1971-02-09  2025-10-06  \n",
       "3         Single  Female  1973-08-14  2025-10-06  \n",
       "4         Single  Female  1979-08-05  2025-10-06  "
      ]
     },
     "execution_count": 7,
     "metadata": {},
     "output_type": "execute_result"
    }
   ],
   "source": [
    "gold_Customers.head()"
   ]
  },
  {
   "cell_type": "code",
   "execution_count": 9,
   "id": "d37150dc",
   "metadata": {},
   "outputs": [
    {
     "data": {
      "text/plain": [
       "(18484, 10)"
      ]
     },
     "execution_count": 9,
     "metadata": {},
     "output_type": "execute_result"
    }
   ],
   "source": [
    "gold_Customers.shape"
   ]
  },
  {
   "cell_type": "code",
   "execution_count": 10,
   "id": "d996c2b6",
   "metadata": {},
   "outputs": [
    {
     "data": {
      "text/plain": [
       "customer_key         0\n",
       "customer_id          0\n",
       "customer_number      0\n",
       "first_name           0\n",
       "last_name            0\n",
       "country            337\n",
       "marital_status       0\n",
       "gender              15\n",
       "birthdate           17\n",
       "create_date          0\n",
       "dtype: int64"
      ]
     },
     "execution_count": 10,
     "metadata": {},
     "output_type": "execute_result"
    }
   ],
   "source": [
    "gold_Customers.isna().sum()"
   ]
  },
  {
   "cell_type": "markdown",
   "id": "3abd05f6",
   "metadata": {},
   "source": [
    "__Gold Products Analysis__"
   ]
  },
  {
   "cell_type": "code",
   "execution_count": 11,
   "id": "cb61f31f",
   "metadata": {},
   "outputs": [],
   "source": [
    "gold_products = pd.read_csv(\"gold.dim_products.csv\")"
   ]
  },
  {
   "cell_type": "code",
   "execution_count": 12,
   "id": "a27e5ca1",
   "metadata": {},
   "outputs": [
    {
     "data": {
      "text/html": [
       "<div>\n",
       "<style scoped>\n",
       "    .dataframe tbody tr th:only-of-type {\n",
       "        vertical-align: middle;\n",
       "    }\n",
       "\n",
       "    .dataframe tbody tr th {\n",
       "        vertical-align: top;\n",
       "    }\n",
       "\n",
       "    .dataframe thead th {\n",
       "        text-align: right;\n",
       "    }\n",
       "</style>\n",
       "<table border=\"1\" class=\"dataframe\">\n",
       "  <thead>\n",
       "    <tr style=\"text-align: right;\">\n",
       "      <th></th>\n",
       "      <th>product_key</th>\n",
       "      <th>product_id</th>\n",
       "      <th>product_number</th>\n",
       "      <th>product_name</th>\n",
       "      <th>category_id</th>\n",
       "      <th>category</th>\n",
       "      <th>subcategory</th>\n",
       "      <th>maintenance</th>\n",
       "      <th>cost</th>\n",
       "      <th>product_line</th>\n",
       "      <th>start_date</th>\n",
       "    </tr>\n",
       "  </thead>\n",
       "  <tbody>\n",
       "    <tr>\n",
       "      <th>0</th>\n",
       "      <td>1</td>\n",
       "      <td>210</td>\n",
       "      <td>FR-R92B-58</td>\n",
       "      <td>HL Road Frame - Black- 58</td>\n",
       "      <td>CO_RF</td>\n",
       "      <td>Components</td>\n",
       "      <td>Road Frames</td>\n",
       "      <td>Yes</td>\n",
       "      <td>0</td>\n",
       "      <td>Road</td>\n",
       "      <td>2003-07-01</td>\n",
       "    </tr>\n",
       "    <tr>\n",
       "      <th>1</th>\n",
       "      <td>2</td>\n",
       "      <td>211</td>\n",
       "      <td>FR-R92R-58</td>\n",
       "      <td>HL Road Frame - Red- 58</td>\n",
       "      <td>CO_RF</td>\n",
       "      <td>Components</td>\n",
       "      <td>Road Frames</td>\n",
       "      <td>Yes</td>\n",
       "      <td>0</td>\n",
       "      <td>Road</td>\n",
       "      <td>2003-07-01</td>\n",
       "    </tr>\n",
       "    <tr>\n",
       "      <th>2</th>\n",
       "      <td>3</td>\n",
       "      <td>348</td>\n",
       "      <td>BK-M82B-38</td>\n",
       "      <td>Mountain-100 Black- 38</td>\n",
       "      <td>BI_MB</td>\n",
       "      <td>Bikes</td>\n",
       "      <td>Mountain Bikes</td>\n",
       "      <td>Yes</td>\n",
       "      <td>1898</td>\n",
       "      <td>Mountain</td>\n",
       "      <td>2011-07-01</td>\n",
       "    </tr>\n",
       "    <tr>\n",
       "      <th>3</th>\n",
       "      <td>4</td>\n",
       "      <td>349</td>\n",
       "      <td>BK-M82B-42</td>\n",
       "      <td>Mountain-100 Black- 42</td>\n",
       "      <td>BI_MB</td>\n",
       "      <td>Bikes</td>\n",
       "      <td>Mountain Bikes</td>\n",
       "      <td>Yes</td>\n",
       "      <td>1898</td>\n",
       "      <td>Mountain</td>\n",
       "      <td>2011-07-01</td>\n",
       "    </tr>\n",
       "    <tr>\n",
       "      <th>4</th>\n",
       "      <td>5</td>\n",
       "      <td>350</td>\n",
       "      <td>BK-M82B-44</td>\n",
       "      <td>Mountain-100 Black- 44</td>\n",
       "      <td>BI_MB</td>\n",
       "      <td>Bikes</td>\n",
       "      <td>Mountain Bikes</td>\n",
       "      <td>Yes</td>\n",
       "      <td>1898</td>\n",
       "      <td>Mountain</td>\n",
       "      <td>2011-07-01</td>\n",
       "    </tr>\n",
       "  </tbody>\n",
       "</table>\n",
       "</div>"
      ],
      "text/plain": [
       "   product_key  product_id product_number               product_name  \\\n",
       "0            1         210     FR-R92B-58  HL Road Frame - Black- 58   \n",
       "1            2         211     FR-R92R-58    HL Road Frame - Red- 58   \n",
       "2            3         348     BK-M82B-38     Mountain-100 Black- 38   \n",
       "3            4         349     BK-M82B-42     Mountain-100 Black- 42   \n",
       "4            5         350     BK-M82B-44     Mountain-100 Black- 44   \n",
       "\n",
       "  category_id    category     subcategory maintenance  cost product_line  \\\n",
       "0       CO_RF  Components     Road Frames         Yes     0         Road   \n",
       "1       CO_RF  Components     Road Frames         Yes     0         Road   \n",
       "2       BI_MB       Bikes  Mountain Bikes         Yes  1898     Mountain   \n",
       "3       BI_MB       Bikes  Mountain Bikes         Yes  1898     Mountain   \n",
       "4       BI_MB       Bikes  Mountain Bikes         Yes  1898     Mountain   \n",
       "\n",
       "   start_date  \n",
       "0  2003-07-01  \n",
       "1  2003-07-01  \n",
       "2  2011-07-01  \n",
       "3  2011-07-01  \n",
       "4  2011-07-01  "
      ]
     },
     "execution_count": 12,
     "metadata": {},
     "output_type": "execute_result"
    }
   ],
   "source": [
    "gold_products.head()"
   ]
  },
  {
   "cell_type": "code",
   "execution_count": 13,
   "id": "d7cf9245",
   "metadata": {},
   "outputs": [
    {
     "data": {
      "text/plain": [
       "(295, 11)"
      ]
     },
     "execution_count": 13,
     "metadata": {},
     "output_type": "execute_result"
    }
   ],
   "source": [
    "gold_products.shape"
   ]
  },
  {
   "cell_type": "code",
   "execution_count": 14,
   "id": "a2156a30",
   "metadata": {},
   "outputs": [
    {
     "data": {
      "text/plain": [
       "product_key        0\n",
       "product_id         0\n",
       "product_number     0\n",
       "product_name       0\n",
       "category_id        0\n",
       "category           7\n",
       "subcategory        7\n",
       "maintenance        7\n",
       "cost               0\n",
       "product_line      17\n",
       "start_date         0\n",
       "dtype: int64"
      ]
     },
     "execution_count": 14,
     "metadata": {},
     "output_type": "execute_result"
    }
   ],
   "source": [
    "gold_products.isna().sum()"
   ]
  },
  {
   "cell_type": "markdown",
   "id": "661af15b",
   "metadata": {},
   "source": [
    "__Gold sales Analysis__"
   ]
  },
  {
   "cell_type": "code",
   "execution_count": 15,
   "id": "75ee998a",
   "metadata": {},
   "outputs": [],
   "source": [
    "Gold_Sales = pd.read_csv(\"gold.fact_sales.csv\")"
   ]
  },
  {
   "cell_type": "code",
   "execution_count": 16,
   "id": "f23850c7",
   "metadata": {},
   "outputs": [
    {
     "data": {
      "text/html": [
       "<div>\n",
       "<style scoped>\n",
       "    .dataframe tbody tr th:only-of-type {\n",
       "        vertical-align: middle;\n",
       "    }\n",
       "\n",
       "    .dataframe tbody tr th {\n",
       "        vertical-align: top;\n",
       "    }\n",
       "\n",
       "    .dataframe thead th {\n",
       "        text-align: right;\n",
       "    }\n",
       "</style>\n",
       "<table border=\"1\" class=\"dataframe\">\n",
       "  <thead>\n",
       "    <tr style=\"text-align: right;\">\n",
       "      <th></th>\n",
       "      <th>order_number</th>\n",
       "      <th>product_key</th>\n",
       "      <th>customer_key</th>\n",
       "      <th>order_date</th>\n",
       "      <th>shipping_date</th>\n",
       "      <th>due_date</th>\n",
       "      <th>sales_amount</th>\n",
       "      <th>quantity</th>\n",
       "      <th>price</th>\n",
       "    </tr>\n",
       "  </thead>\n",
       "  <tbody>\n",
       "    <tr>\n",
       "      <th>0</th>\n",
       "      <td>SO54496</td>\n",
       "      <td>282</td>\n",
       "      <td>5400</td>\n",
       "      <td>2013-03-16</td>\n",
       "      <td>2013-03-23</td>\n",
       "      <td>2013-03-28</td>\n",
       "      <td>25</td>\n",
       "      <td>1</td>\n",
       "      <td>25</td>\n",
       "    </tr>\n",
       "    <tr>\n",
       "      <th>1</th>\n",
       "      <td>SO54496</td>\n",
       "      <td>289</td>\n",
       "      <td>5400</td>\n",
       "      <td>2013-03-16</td>\n",
       "      <td>2013-03-23</td>\n",
       "      <td>2013-03-28</td>\n",
       "      <td>5</td>\n",
       "      <td>1</td>\n",
       "      <td>5</td>\n",
       "    </tr>\n",
       "    <tr>\n",
       "      <th>2</th>\n",
       "      <td>SO54496</td>\n",
       "      <td>259</td>\n",
       "      <td>5400</td>\n",
       "      <td>2013-03-16</td>\n",
       "      <td>2013-03-23</td>\n",
       "      <td>2013-03-28</td>\n",
       "      <td>2</td>\n",
       "      <td>1</td>\n",
       "      <td>2</td>\n",
       "    </tr>\n",
       "    <tr>\n",
       "      <th>3</th>\n",
       "      <td>SO54497</td>\n",
       "      <td>174</td>\n",
       "      <td>9281</td>\n",
       "      <td>2013-03-16</td>\n",
       "      <td>2013-03-23</td>\n",
       "      <td>2013-03-28</td>\n",
       "      <td>22</td>\n",
       "      <td>1</td>\n",
       "      <td>22</td>\n",
       "    </tr>\n",
       "    <tr>\n",
       "      <th>4</th>\n",
       "      <td>SO54497</td>\n",
       "      <td>280</td>\n",
       "      <td>9281</td>\n",
       "      <td>2013-03-16</td>\n",
       "      <td>2013-03-23</td>\n",
       "      <td>2013-03-28</td>\n",
       "      <td>9</td>\n",
       "      <td>1</td>\n",
       "      <td>9</td>\n",
       "    </tr>\n",
       "  </tbody>\n",
       "</table>\n",
       "</div>"
      ],
      "text/plain": [
       "  order_number  product_key  customer_key  order_date shipping_date  \\\n",
       "0      SO54496          282          5400  2013-03-16    2013-03-23   \n",
       "1      SO54496          289          5400  2013-03-16    2013-03-23   \n",
       "2      SO54496          259          5400  2013-03-16    2013-03-23   \n",
       "3      SO54497          174          9281  2013-03-16    2013-03-23   \n",
       "4      SO54497          280          9281  2013-03-16    2013-03-23   \n",
       "\n",
       "     due_date  sales_amount  quantity  price  \n",
       "0  2013-03-28            25         1     25  \n",
       "1  2013-03-28             5         1      5  \n",
       "2  2013-03-28             2         1      2  \n",
       "3  2013-03-28            22         1     22  \n",
       "4  2013-03-28             9         1      9  "
      ]
     },
     "execution_count": 16,
     "metadata": {},
     "output_type": "execute_result"
    }
   ],
   "source": [
    "Gold_Sales.head()"
   ]
  },
  {
   "cell_type": "code",
   "execution_count": 17,
   "id": "cd1ad8df",
   "metadata": {},
   "outputs": [
    {
     "data": {
      "text/plain": [
       "(60398, 9)"
      ]
     },
     "execution_count": 17,
     "metadata": {},
     "output_type": "execute_result"
    }
   ],
   "source": [
    "Gold_Sales.shape"
   ]
  },
  {
   "cell_type": "code",
   "execution_count": 18,
   "id": "b2176526",
   "metadata": {},
   "outputs": [
    {
     "data": {
      "text/plain": [
       "order_number      0\n",
       "product_key       0\n",
       "customer_key      0\n",
       "order_date       19\n",
       "shipping_date     0\n",
       "due_date          0\n",
       "sales_amount      0\n",
       "quantity          0\n",
       "price             0\n",
       "dtype: int64"
      ]
     },
     "execution_count": 18,
     "metadata": {},
     "output_type": "execute_result"
    }
   ],
   "source": [
    "Gold_Sales.isna().sum()"
   ]
  },
  {
   "cell_type": "markdown",
   "id": "bcb2dd3f",
   "metadata": {},
   "source": [
    "__Export Data CSV file to SQL__"
   ]
  },
  {
   "cell_type": "markdown",
   "id": "1c33da6d",
   "metadata": {},
   "source": [
    "__Gold Customer File__"
   ]
  },
  {
   "cell_type": "code",
   "execution_count": 26,
   "id": "5a00260d",
   "metadata": {},
   "outputs": [
    {
     "name": "stdout",
     "output_type": "stream",
     "text": [
      "Database 'SQL_Project' already exists.\n",
      "CSV file 'C:\\path\\to\\gold.dim_customers.csv' has been successfully imported into PostgreSQL table 'gold_customers'!\n"
     ]
    }
   ],
   "source": [
    "import psycopg2\n",
    "import pandas as pd\n",
    "from sqlalchemy import create_engine\n",
    "\n",
    "# 1️⃣ File & database details\n",
    "csv_file = r\"C:\\path\\to\\gold.dim_customers.csv\"  # <-- apna actual path yahan daalo\n",
    "db_name = \"SQL_Project\"\n",
    "db_user = \"postgres\"   # apna PostgreSQL username\n",
    "db_password = \"Password\"\n",
    "db_host = \"localhost\"\n",
    "db_port = \"5432\"\n",
    "table_name = \"gold_customers\"  # lowercase table name\n",
    "\n",
    "# 2️⃣ Connect to default 'postgres' database to create new database if needed\n",
    "conn = psycopg2.connect(\n",
    "    user=db_user,\n",
    "    password=db_password,\n",
    "    host=db_host,\n",
    "    port=db_port,\n",
    "    dbname=\"postgres\"\n",
    ")\n",
    "conn.autocommit = True\n",
    "cur = conn.cursor()\n",
    "\n",
    "# 3️⃣ Check if database exists\n",
    "cur.execute(f\"SELECT 1 FROM pg_database WHERE datname='{db_name}'\")\n",
    "exists = cur.fetchone()\n",
    "\n",
    "# 4️⃣ Create database if it doesn't exist\n",
    "if not exists:\n",
    "    cur.execute(f'CREATE DATABASE \"{db_name}\"')\n",
    "    print(f\"Database '{db_name}' created!\")\n",
    "else:\n",
    "    print(f\"Database '{db_name}' already exists.\")\n",
    "\n",
    "cur.close()\n",
    "conn.close()\n",
    "\n",
    "# 5️⃣ Read CSV into pandas DataFrame\n",
    "df = pd.read_csv(\"gold.dim_customers.csv\")\n",
    "\n",
    "# 6️⃣ Create SQLAlchemy engine for the new/existing database\n",
    "engine = create_engine(f\"postgresql+psycopg2://{db_user}:{db_password}@{db_host}:{db_port}/{db_name}\")\n",
    "\n",
    "# 7️⃣ Export DataFrame to PostgreSQL (lowercase table)\n",
    "df.to_sql(table_name, engine, if_exists='replace', index=False)\n",
    "\n",
    "print(f\"CSV file '{csv_file}' has been successfully imported into PostgreSQL table '{table_name}'!\")\n"
   ]
  },
  {
   "cell_type": "markdown",
   "id": "2d30b612",
   "metadata": {},
   "source": [
    "__Gold Product CSV File Export into SQL__"
   ]
  },
  {
   "cell_type": "code",
   "execution_count": 29,
   "id": "0ae47135",
   "metadata": {},
   "outputs": [
    {
     "name": "stdout",
     "output_type": "stream",
     "text": [
      "Database 'SQL_Project' already exists.\n",
      "CSV file 'gold.dim_products.csv' has been successfully imported into PostgreSQL table 'gold_products'!\n"
     ]
    }
   ],
   "source": [
    "import psycopg2\n",
    "import pandas as pd\n",
    "from sqlalchemy import create_engine\n",
    "\n",
    "# 1️⃣ File & database details\n",
    "csv_file = \"gold.dim_products.csv\"  # <-- apna actual path yahan daalo\n",
    "db_name = \"SQL_Project\"\n",
    "db_user = \"postgres\"   # apna PostgreSQL username\n",
    "db_password = \"Password\"\n",
    "db_host = \"localhost\"\n",
    "db_port = \"5432\"\n",
    "table_name = \"gold_products\"  # lowercase table name, no quotes needed in SQL\n",
    "\n",
    "# 2️⃣ Connect to default 'postgres' database to create new database if needed\n",
    "conn = psycopg2.connect(\n",
    "    user=db_user,\n",
    "    password=db_password,\n",
    "    host=db_host,\n",
    "    port=db_port,\n",
    "    dbname=\"postgres\"\n",
    ")\n",
    "conn.autocommit = True\n",
    "cur = conn.cursor()\n",
    "\n",
    "# 3️⃣ Check if database exists\n",
    "cur.execute(f\"SELECT 1 FROM pg_database WHERE datname='{db_name}'\")\n",
    "exists = cur.fetchone()\n",
    "\n",
    "# 4️⃣ Create database if it doesn't exist\n",
    "if not exists:\n",
    "    cur.execute(f'CREATE DATABASE \"{db_name}\"')\n",
    "    print(f\"Database '{db_name}' created!\")\n",
    "else:\n",
    "    print(f\"Database '{db_name}' already exists.\")\n",
    "\n",
    "cur.close()\n",
    "conn.close()\n",
    "\n",
    "# 5️⃣ Read CSV into pandas DataFrame\n",
    "df = pd.read_csv(csv_file)\n",
    "\n",
    "# 6️⃣ Convert table name to lowercase to avoid quotes in SQL\n",
    "table_name = table_name.lower()\n",
    "\n",
    "# 7️⃣ Create SQLAlchemy engine for the new/existing database\n",
    "engine = create_engine(f\"postgresql+psycopg2://{db_user}:{db_password}@{db_host}:{db_port}/{db_name}\")\n",
    "\n",
    "# 8️⃣ Export DataFrame to PostgreSQL (lowercase table)\n",
    "df.to_sql(table_name, engine, if_exists='replace', index=False)\n",
    "\n",
    "print(f\"CSV file '{csv_file}' has been successfully imported into PostgreSQL table '{table_name}'!\")\n"
   ]
  },
  {
   "cell_type": "markdown",
   "id": "52de80af",
   "metadata": {},
   "source": [
    "__Gold Customers Sales__ "
   ]
  },
  {
   "cell_type": "code",
   "execution_count": 30,
   "id": "6dd38f45",
   "metadata": {},
   "outputs": [
    {
     "name": "stdout",
     "output_type": "stream",
     "text": [
      "Database 'SQL_Project' already exists.\n",
      "CSV file 'gold.fact_sales.csv' has been successfully imported into PostgreSQL table 'gold_sales'!\n"
     ]
    }
   ],
   "source": [
    "import psycopg2\n",
    "import pandas as pd\n",
    "from sqlalchemy import create_engine\n",
    "\n",
    "# 1️⃣ File & database details\n",
    "csv_file = \"gold.fact_sales.csv\"  # <-- apna actual path yahan daalo\n",
    "db_name = \"SQL_Project\"\n",
    "db_user = \"postgres\"   # apna PostgreSQL username\n",
    "db_password = \"Password\"\n",
    "db_host = \"localhost\"\n",
    "db_port = \"5432\"\n",
    "table_name = \"gold_sales\"  # lowercase table name, no quotes needed in SQL\n",
    "\n",
    "# 2️⃣ Connect to default 'postgres' database to create new database if needed\n",
    "conn = psycopg2.connect(\n",
    "    user=db_user,\n",
    "    password=db_password,\n",
    "    host=db_host,\n",
    "    port=db_port,\n",
    "    dbname=\"postgres\"\n",
    ")\n",
    "conn.autocommit = True\n",
    "cur = conn.cursor()\n",
    "\n",
    "# 3️⃣ Check if database exists\n",
    "cur.execute(f\"SELECT 1 FROM pg_database WHERE datname='{db_name}'\")\n",
    "exists = cur.fetchone()\n",
    "\n",
    "# 4️⃣ Create database if it doesn't exist\n",
    "if not exists:\n",
    "    cur.execute(f'CREATE DATABASE \"{db_name}\"')\n",
    "    print(f\"Database '{db_name}' created!\")\n",
    "else:\n",
    "    print(f\"Database '{db_name}' already exists.\")\n",
    "\n",
    "cur.close()\n",
    "conn.close()\n",
    "\n",
    "# 5️⃣ Read CSV into pandas DataFrame\n",
    "df = pd.read_csv(csv_file)\n",
    "\n",
    "# 6️⃣ Ensure table name is lowercase\n",
    "table_name = table_name.lower()\n",
    "\n",
    "# 7️⃣ Create SQLAlchemy engine for the database\n",
    "engine = create_engine(f\"postgresql+psycopg2://{db_user}:{db_password}@{db_host}:{db_port}/{db_name}\")\n",
    "\n",
    "# 8️⃣ Export DataFrame to PostgreSQL\n",
    "df.to_sql(table_name, engine, if_exists='replace', index=False)\n",
    "\n",
    "print(f\"CSV file '{csv_file}' has been successfully imported into PostgreSQL table '{table_name}'!\")\n"
   ]
  }
 ],
 "metadata": {
  "kernelspec": {
   "display_name": "Python 3",
   "language": "python",
   "name": "python3"
  },
  "language_info": {
   "codemirror_mode": {
    "name": "ipython",
    "version": 3
   },
   "file_extension": ".py",
   "mimetype": "text/x-python",
   "name": "python",
   "nbconvert_exporter": "python",
   "pygments_lexer": "ipython3",
   "version": "3.12.6"
  }
 },
 "nbformat": 4,
 "nbformat_minor": 5
}
